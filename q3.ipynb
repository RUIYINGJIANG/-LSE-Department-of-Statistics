{
 "cells": [
  {
   "cell_type": "markdown",
   "id": "c656def0",
   "metadata": {},
   "source": [
    "## Q3: LSE Department of Statistics (35 marks)\n",
    "\n",
    "\n",
    "For this question, we want to collect some data about LSE Statistics academic staff via web scraping, and find out the distribution of different types of staff, gender balance, etc\n",
    "\n",
    "Do the following:\n",
    "\n",
    "1. [Data collection via web scraping] Use web scraping with Python modules `requests` and `BeautifulSoup` to extract the information about the academic staff of the Department of Statistics from https://www.lse.ac.uk/Statistics/People (and the linked pages). For simplicity, we only consider:\n",
    "    > * All the staff under the tab \"Academic faculty\" \n",
    "    > * Guest lecturers/teachers and LSE fellows under the tab \"Academic associates - Emeritus Professors, Guest Lecturers and Visiting Staff\" \n",
    "        * i.e. we DO NOT consider any of the emeritus or visiting staff, as they are less involved and/or only joining for a short period\n",
    "\n",
    "    For each staff fulfilling the requirements above, do the following:\n",
    "    \n",
    "    * (a) Get the URL of the staff's page from \"More information\". Example:\n",
    "    <img src=\"figs/people.png\" width=\"400\"/>\n",
    "    \n",
    "    For example, for Dr. James Abdey, the link is https://www.lse.ac.uk/Statistics/People/Dr-James-Abdey\n",
    "        * You may get some shorter version of the path first (like `Statistics/People/Dr-James-Abdey`), but you can construct the full URL from the short version\n",
    "    \n",
    "    * (b) With the URLs collected from (a), use web scraping with python modules `requests` and `BeautifulSoup` to scrape the following information and store the result in a `pd.DataFrame` with 3 columns:\n",
    "        * Name of the staff (e.g. James Abdey, with or without the title prefix)\n",
    "        * Job title (e.g. Associate Professorial Lecturer)\n",
    "        * Gender - depending on the page, you may be able to deduce the gender of the staff from the content of \"About me\"\n",
    "            * You may want to use `np.nan` to represent those you cannot find the gender automatically\n",
    "        \n",
    "        <img src=\"figs/james.png\" width=\"400\"/>\n",
    "\n",
    "2. [Data exploration] Calculate the descriptive statistics on title and gender. Based on the descriptive statistics _only_, answer the following:\n",
    "    * Are there any issues with the data collected? If yes, what are they?\n",
    "    * Is the gender ratio of academic staff close to 50:50 within the department?\n",
    "    \n",
    "3. [Data wrangling] Cleaning and organise the data:\n",
    "\n",
    "    * (a) Handle any issues of the data collected from part (1) based on what you have discovered in part (2), including:\n",
    "        * If you have discovered that you did not collect the data correctly in part (1), fix it\n",
    "            * If you are not able to fix the code in part (1), at the very least try to fix the data manually so that you can get reasonable results (and marks) in part (3) and (4)\n",
    "        * If there is any missing data, handle them _appropriately_ and explain your rationale\n",
    "    * (b) Extract the \"role\" and the \"rank\" of each staff from the `pd.DataFrame` in (3a):\n",
    "        * \"Role\" of the staff (based on https://info.lse.ac.uk/staff/divisions/Human-Resources/The-recruitment-toolkit/Role-profiles): \n",
    "            * \"teaching\" (the job title should have the words like \"Lecturer\", \"Teacher\", \"Teaching Fellow\" or \"LSE Fellow\"), e.g. Associate Professorial Lecturer\n",
    "            * \"faculty\" (the job title should have the _word_ \"Professor\"), e.g. Assistant Professor\n",
    "        * \"Rank\" of the staff: \n",
    "            * \"non-tenure\" (non tenure-track, should contain the words like \"Guest\" or \"Fellow\"), e.g. Guest Teacher, LSE fellow\n",
    "            * \"assistant\" (entry-level tenure-track, should contain the word \"Assistant\"), e.g. Assistant Professor\n",
    "            * \"associate\" (mid-level tenure-track, should contain the word \"Associate\"), e.g. Associate Professorial Lecturer\n",
    "            * \"full\" (senior-level tenure-track, does not have any of the keywords above), e.g. Professor\n",
    "        \n",
    "    and put the information about the role and rank as two additional columns to the data frame in (3a)\n",
    "    * (c) Store the `pd.DataFrame` from (3b) into a csv file in the `data` folder, with the name of the file to be `lse_statistics_2022mmdd.csv` with `mm` the month and `dd` the day you have collected the data. This file will help us to verify your result\n",
    "    \n",
    "4. [Simple analysis] Use the `pd.DataFrame` from part (3b), find out if the gender ratio depends on the roles and/or the rank\n",
    "    * Based on your results in this part, do you think the Department of Statistics has a good gender balance among its staff?\n",
    "    \n",
    "    \n",
    "Please state the limitations of your answers."
   ]
  },
  {
   "cell_type": "markdown",
   "id": "c175d6a2",
   "metadata": {},
   "source": [
    "---\n",
    "### Note\n",
    "\n",
    "* Data should be extracted as automatically as possible\n",
    "* If you are not able to do some parts, you can hard code the values and continue to work on the rest of the question \n",
    "    * You will lose marks for not being able to solve the corresponding part, but at least you may get some marks from the other parts of the question\n",
    "    * For example, if you cannot get the URLs from part 1(a), you may manually figure out the URLs of the staff to allow you to continue to work on part 1(b) and the rest of the question - but of course you will lose marks for part 1(a)\n",
    "    \n",
    "---\n",
    "    \n",
    "### Hints\n",
    "\n",
    "* When finding the gender from the content of \"About me\", what pronouns do you expect to see with higher frequency if the staff is male? If the staff is female?\n",
    "* You may find [`.str.contains()`](https://pandas.pydata.org/docs/reference/api/pandas.Series.str.contains.html) and/or `.str.split()` useful for (3b)\n",
    "    \n",
    "---"
   ]
  },
  {
   "cell_type": "code",
   "execution_count": 2,
   "id": "425bf9c8",
   "metadata": {},
   "outputs": [],
   "source": [
    "## your attempt, please add the code cells and markdown cells for your answers. Make sure you:\n",
    "## * use the right type of cells\n",
    "## * state clearly which answer is for which part\n",
    "## * show the output of the code cells"
   ]
  },
  {
   "cell_type": "markdown",
   "id": "921d337b",
   "metadata": {},
   "source": [
    "# Q3.1"
   ]
  },
  {
   "cell_type": "code",
   "execution_count": 3,
   "id": "4b75af41",
   "metadata": {},
   "outputs": [],
   "source": [
    "#(a)"
   ]
  },
  {
   "cell_type": "code",
   "execution_count": 2,
   "id": "075f6bcf",
   "metadata": {},
   "outputs": [],
   "source": [
    "from bs4 import BeautifulSoup\n",
    "import requests\n",
    "import pandas as pd"
   ]
  },
  {
   "cell_type": "code",
   "execution_count": 3,
   "id": "2220c438",
   "metadata": {},
   "outputs": [],
   "source": [
    "res = requests.get(\"https://www.lse.ac.uk/Statistics/People\")\n",
    "soup = BeautifulSoup(res.content,'lxml')"
   ]
  },
  {
   "cell_type": "code",
   "execution_count": 4,
   "id": "1f506d3b",
   "metadata": {},
   "outputs": [],
   "source": [
    "# For academic faculty\n",
    "header = soup.find(text = \"Academic faculty\")\n",
    "p = header.find_next(\"div\", {\"class\": \"accordion__content\"})\n",
    "people_data_1 = p.find_all('a',{\"class\": \"sys_0 sys_t0\"})"
   ]
  },
  {
   "cell_type": "code",
   "execution_count": 5,
   "id": "4343ba0a",
   "metadata": {},
   "outputs": [
    {
     "data": {
      "text/plain": [
       "[<a class=\"sys_0 sys_t0\" href=\"/statistics/people/james-abdey\" title=\"Dr James Abdey\">More information</a>,\n",
       " <a class=\"sys_0 sys_t0\" href=\"/statistics/people/mona-azadkia\" title=\"Mona Azadkia\">More information </a>,\n",
       " <a class=\"sys_0 sys_t0\" href=\"/statistics/people/marcos-barreto\" title=\"Dr Marcos Barreto\">More information</a>,\n",
       " <a class=\"sys_0 sys_t0\" href=\"/statistics/people/pauline-barrieu\" title=\"Professor Pauline Barrieu\">More information</a>,\n",
       " <a class=\"sys_0 sys_t0\" href=\"/statistics/people/erik-baurdoux\" title=\"Dr. Erik Baurdoux\">More information</a>,\n",
       " <a class=\"sys_0 sys_t0\" href=\"/statistics/people/wicher-bergsma\" title=\"Dr. Wicher Bergsma\">More information</a>,\n",
       " <a class=\"sys_0 sys_t0\" href=\"/statistics/people/umut-cetin\" title=\"Professor Umut Cetin\">More information</a>,\n",
       " <a class=\"sys_0 sys_t0\" href=\"/statistics/people/yining-chen\" title=\"Dr. Yining Chen\">More information</a>,\n",
       " <a class=\"sys_0 sys_t0\" href=\"/statistics/people/yunxiao-chen\" title=\"Dr Yunxiao Chen\">More information </a>,\n",
       " <a class=\"sys_0 sys_t0\" href=\"/statistics/people/angelos-dassios\" title=\"Professor Angelos Dassios\">More information</a>,\n",
       " <a class=\"sys_0 sys_t0\" href=\"/statistics/people/daniela-escobar\" title=\"Dr Daniela Escobar\">More information </a>,\n",
       " <a class=\"sys_0 sys_t0\" href=\"/statistics/people/piotr-fryzlewicz\" title=\"Professor Piotr Fryzlewicz\">More information</a>,\n",
       " <a class=\"sys_0 sys_t0\" href=\"/statistics/people/sara-geneletti\" title=\"Dr. Sara Geneletti\">More information</a>,\n",
       " <a class=\"sys_0 sys_t0\" href=\"/statistics/people/kostas-kalogeropoulos\" title=\"Dr. Kostas Kalogeropoulos\">More information</a>,\n",
       " <a class=\"sys_0 sys_t0\" href=\"/statistics/people/kostas-kardaras\" title=\"Professor Kostas Kardaras\">More information</a>,\n",
       " <a class=\"sys_0 sys_t0\" href=\"/statistics/people/jouni-kuha\" title=\"Dr. Jouni Kuha\">More information</a>,\n",
       " <a class=\"sys_0 sys_t0\" href=\"/statistics/people/clifford-lam\" title=\"Dr. Clifford Lam\">More information</a>,\n",
       " <a class=\"sys_0 sys_t0\" href=\"/statistics/people/giulia-livieri\" title=\"Dr Giulia Livieri\">More information </a>,\n",
       " <a class=\"sys_0 sys_t0\" href=\"/statistics/people/joshua-loftus\" title=\"Dr Joshua Loftus\">More information</a>,\n",
       " <a class=\"sys_0 sys_t0\" href=\"/statistics/people/gelly-mitrodima\" title=\"Dr Gelly Mitrodima\">More information </a>,\n",
       " <a class=\"sys_0 sys_t0\" href=\"/statistics/people/irini-moustaki\" title=\"Professor Irini Moustaki\">More information</a>,\n",
       " <a class=\"sys_0 sys_t0\" href=\"/statistics/people/francesca-panero\" title=\"Francesca Panero\">More information</a>,\n",
       " <a class=\"sys_0 sys_t0\" href=\"/statistics/people/xinghao-qiao\" title=\"Dr. Xinghao Qiao\">More information</a>,\n",
       " <a class=\"sys_0 sys_t0\" href=\"/statistics/people/chengchun-shi\" title=\"Chengchun Shi\">More information </a>,\n",
       " <a class=\"sys_0 sys_t0\" href=\"/statistics/people/andreas-søjmark\" title=\"Andreas Søjmark\">More information</a>,\n",
       " <a class=\"sys_0 sys_t0\" href=\"/statistics/people/fiona-steele\" title=\"Professor Fiona Steele\">More information</a>,\n",
       " <a class=\"sys_0 sys_t0\" href=\"/statistics/people/zoltan-szabo\" title=\"Professor Zoltan Szabo\">More information</a>,\n",
       " <a class=\"sys_0 sys_t0\" href=\"/statistics/people/milan-vojnovic\" title=\"Professor Milan Vojnovic\">More information</a>,\n",
       " <a class=\"sys_0 sys_t0\" href=\"/statistics/people/tengyao-wang\" title=\"Dr Tengyao Wang\">More information</a>,\n",
       " <a class=\"sys_0 sys_t0\" href=\"/statistics/people/qiwei-yao\" title=\"Professor Qiwei Yao\">More information</a>,\n",
       " <a class=\"sys_0 sys_t0\" href=\"/statistics/people/christine-yuen\" title=\"Christine Yuen\">More information</a>,\n",
       " <a class=\"sys_0 sys_t0\" href=\"/statistics/people/yufei-zhang\" title=\"Yufei Zhang\">More information</a>]"
      ]
     },
     "execution_count": 5,
     "metadata": {},
     "output_type": "execute_result"
    }
   ],
   "source": [
    "#check\n",
    "people_data_1"
   ]
  },
  {
   "cell_type": "code",
   "execution_count": 8,
   "id": "888fd00f",
   "metadata": {},
   "outputs": [],
   "source": [
    "#scrap the base(short version) of URL for people in Academic faculty\n",
    "#then we get ul_1_base\n",
    "ul_1_base = []\n",
    "for i in range(len(people_data_1)):\n",
    "    data = people_data_1[i]['href']\n",
    "    ul_1_base.append(data)"
   ]
  },
  {
   "cell_type": "code",
   "execution_count": 10,
   "id": "fafa62ad",
   "metadata": {},
   "outputs": [
    {
     "data": {
      "text/plain": [
       "['/statistics/people/james-abdey',\n",
       " '/statistics/people/mona-azadkia',\n",
       " '/statistics/people/marcos-barreto',\n",
       " '/statistics/people/pauline-barrieu',\n",
       " '/statistics/people/erik-baurdoux',\n",
       " '/statistics/people/wicher-bergsma',\n",
       " '/statistics/people/umut-cetin',\n",
       " '/statistics/people/yining-chen',\n",
       " '/statistics/people/yunxiao-chen',\n",
       " '/statistics/people/angelos-dassios',\n",
       " '/statistics/people/daniela-escobar',\n",
       " '/statistics/people/piotr-fryzlewicz',\n",
       " '/statistics/people/sara-geneletti',\n",
       " '/statistics/people/kostas-kalogeropoulos',\n",
       " '/statistics/people/kostas-kardaras',\n",
       " '/statistics/people/jouni-kuha',\n",
       " '/statistics/people/clifford-lam',\n",
       " '/statistics/people/giulia-livieri',\n",
       " '/statistics/people/joshua-loftus',\n",
       " '/statistics/people/gelly-mitrodima',\n",
       " '/statistics/people/irini-moustaki',\n",
       " '/statistics/people/francesca-panero',\n",
       " '/statistics/people/xinghao-qiao',\n",
       " '/statistics/people/chengchun-shi',\n",
       " '/statistics/people/andreas-søjmark',\n",
       " '/statistics/people/fiona-steele',\n",
       " '/statistics/people/zoltan-szabo',\n",
       " '/statistics/people/milan-vojnovic',\n",
       " '/statistics/people/tengyao-wang',\n",
       " '/statistics/people/qiwei-yao',\n",
       " '/statistics/people/christine-yuen',\n",
       " '/statistics/people/yufei-zhang']"
      ]
     },
     "execution_count": 10,
     "metadata": {},
     "output_type": "execute_result"
    }
   ],
   "source": [
    "#check\n",
    "ul_1_base  "
   ]
  },
  {
   "cell_type": "code",
   "execution_count": 10,
   "id": "12507b70",
   "metadata": {},
   "outputs": [],
   "source": [
    "#construct the full URL for people in Academic faculty from the short version(ul_1_base)\n",
    "#then get ul_1\n",
    "\n",
    "ul_1=[]\n",
    "for j in range(len(ul_1_base)):\n",
    "    full_url =\"https://www.lse.ac.uk\"+ ul_1_base[j]\n",
    "    ul_1.append(full_url)"
   ]
  },
  {
   "cell_type": "code",
   "execution_count": 11,
   "id": "0099c0cc",
   "metadata": {},
   "outputs": [],
   "source": [
    "#check \n",
    "# ul_1"
   ]
  },
  {
   "cell_type": "code",
   "execution_count": 12,
   "id": "249b158e",
   "metadata": {},
   "outputs": [],
   "source": [
    "# For Academic associates - Emeritus Professors, Guest Lecturers, Fellows and Visiting staf"
   ]
  },
  {
   "cell_type": "code",
   "execution_count": 13,
   "id": "e6ee9002",
   "metadata": {},
   "outputs": [],
   "source": [
    "header2 = soup.find(text = 'Research staff')\n",
    "p2 = header2.find_previous(\"div\", {\"class\": \"accordion__content\"})#不晓得为啥识别不了这个aca acc的字段\n",
    "people_data_2 = p2.find_all(\"div\", {\"class\": \"accordion__txt\"})"
   ]
  },
  {
   "cell_type": "code",
   "execution_count": 14,
   "id": "2a92a232",
   "metadata": {},
   "outputs": [],
   "source": [
    "# scrap the base(short version) of URL for people in Academic associates-EGFV \n",
    "# excluding any of the emeritus or visiting staff\n",
    "#then we get ul_2_base\n",
    "ul_2_base = []\n",
    "for i in range(len(people_data_2)):\n",
    "    # do not consider any of the emeritus or visiting staff\n",
    "    if (('Emeritus'not in people_data_2[i].text) and\n",
    "        ('Visiting' not in people_data_2[i].text) and \n",
    "        ('Visting' not in people_data_2[i].text) ):# there is a typo on the webpage，it misspelled 'Visiting' into 'Visting', so we\n",
    "                                                    # add anther statement here \n",
    "        data = people_data_2[i].find('a')['href']\n",
    "        ul_2_base.append(data)  "
   ]
  },
  {
   "cell_type": "code",
   "execution_count": 15,
   "id": "09c252cd",
   "metadata": {},
   "outputs": [],
   "source": [
    "#check \n",
    "#ul_2_base "
   ]
  },
  {
   "cell_type": "code",
   "execution_count": 16,
   "id": "bec014d2",
   "metadata": {},
   "outputs": [],
   "source": [
    "#construct the full URL for people in Academic associates-EGFV  from the short version(ul_2_base)\n",
    "#then get ul_2\n",
    "ul_2=[]\n",
    "for j in range(len(ul_2_base)):\n",
    "    full_url =\"https://www.lse.ac.uk\"+ ul_2_base[j]\n",
    "    ul_2.append(full_url)"
   ]
  },
  {
   "cell_type": "code",
   "execution_count": 17,
   "id": "b3d14f6d",
   "metadata": {},
   "outputs": [],
   "source": [
    "#check\n",
    "#ul_2 "
   ]
  },
  {
   "cell_type": "code",
   "execution_count": 18,
   "id": "52719145",
   "metadata": {},
   "outputs": [],
   "source": [
    "# Combine ul_1 and ul_2 to get the full list of URL(ul_LSE_staff)\n",
    "ul_LSE_staff = ul_1 + ul_2"
   ]
  },
  {
   "cell_type": "code",
   "execution_count": 19,
   "id": "a6c37670",
   "metadata": {},
   "outputs": [
    {
     "data": {
      "text/plain": [
       "['https://www.lse.ac.uk/Statistics/People/Dr-James-Abdey',\n",
       " 'https://www.lse.ac.uk/Statistics/People/Dr-Mona-Azadkia',\n",
       " 'https://www.lse.ac.uk/Statistics/People/Dr-Marcos-Barreto',\n",
       " 'https://www.lse.ac.uk/Statistics/People/Professor-Pauline-Barrieu',\n",
       " 'https://www.lse.ac.uk/Statistics/People/Dr-Erik-Baurdoux',\n",
       " 'https://www.lse.ac.uk/Statistics/People/Professor-Wicher-Bergsma',\n",
       " 'https://www.lse.ac.uk/Statistics/People/Professor-Umut-Cetin',\n",
       " 'https://www.lse.ac.uk/Statistics/People/Dr-Yining-Chen',\n",
       " 'https://www.lse.ac.uk/Statistics/People/Yunxiao-Chen',\n",
       " 'https://www.lse.ac.uk/Statistics/People/Professor-Angelos-Dassios',\n",
       " 'https://www.lse.ac.uk/Statistics/People/Dr-Daniela-Escobar',\n",
       " 'https://www.lse.ac.uk/Statistics/People/Professor-Piotr-Fryzlewicz',\n",
       " 'https://www.lse.ac.uk/Statistics/People/Dr-Sara-Geneletti',\n",
       " 'https://www.lse.ac.uk/Statistics/People/Dr-Kostas-Kalogeropoulos',\n",
       " 'https://www.lse.ac.uk/Statistics/People/Professor-Kostas-Kardaras',\n",
       " 'https://www.lse.ac.uk/Statistics/People/Professor-Jouni-Kuha',\n",
       " 'https://www.lse.ac.uk/Statistics/People/Professor-Clifford-Lam',\n",
       " 'https://www.lse.ac.uk/Statistics/People/Dr-Joshua-Loftus',\n",
       " 'https://www.lse.ac.uk/Statistics/People/Dr-Gelly-Mitrodima',\n",
       " 'https://www.lse.ac.uk/Statistics/People/Professor-Irini-Moustaki',\n",
       " 'https://www.lse.ac.uk/Statistics/People/Dr-Francesca-Panero',\n",
       " 'https://www.lse.ac.uk/Statistics/People/Dr-Xinghao-Qiao',\n",
       " 'https://www.lse.ac.uk/Statistics/People/Dr-Chengchun-Shi',\n",
       " 'https://www.lse.ac.uk/Statistics/People/Dr-Andreas-Søjmark',\n",
       " 'https://www.lse.ac.uk/Statistics/People/Professor-Fiona-Steele',\n",
       " 'https://www.lse.ac.uk/Statistics/People/Professor-Zoltan-Szabo',\n",
       " 'https://www.lse.ac.uk/Statistics/People/Professor-Milan-Vojnovic',\n",
       " 'https://www.lse.ac.uk/Statistics/People/Dr-Tengyao-Wang',\n",
       " 'https://www.lse.ac.uk/Statistics/People/Professor-Qiwei-Yao',\n",
       " 'https://www.lse.ac.uk/Statistics/People/Dr-Christine-Yuen',\n",
       " 'https://www.lse.ac.uk/Statistics/People/Dr-Yufei-Zhang',\n",
       " 'https://www.lse.ac.uk/Statistics/People/Dr-Phil-Chan',\n",
       " 'https://www.lse.ac.uk/Statistics/People/Dr-Anastasia-Kakou',\n",
       " 'https://www.lse.ac.uk/Statistics/People/Anica-Kostic',\n",
       " 'https://www.lse.ac.uk/Statistics/People/Dr-Milt-Mavrakakis',\n",
       " 'https://www.lse.ac.uk/Statistics/People/Karsten-Shaw',\n",
       " 'https://www.lse.ac.uk/Statistics/People/Marwah-Soliman',\n",
       " 'https://www.lse.ac.uk/Statistics/People/George-Zouros']"
      ]
     },
     "execution_count": 19,
     "metadata": {},
     "output_type": "execute_result"
    }
   ],
   "source": [
    "ul_LSE_staff"
   ]
  },
  {
   "cell_type": "code",
   "execution_count": 20,
   "id": "3f516b7f",
   "metadata": {},
   "outputs": [],
   "source": [
    "#(b)"
   ]
  },
  {
   "cell_type": "code",
   "execution_count": 21,
   "id": "20880723",
   "metadata": {},
   "outputs": [],
   "source": [
    "from bs4 import BeautifulSoup\n",
    "import requests\n",
    "import pandas as pd\n",
    "import numpy as np\n"
   ]
  },
  {
   "cell_type": "code",
   "execution_count": 22,
   "id": "d8472850",
   "metadata": {},
   "outputs": [],
   "source": [
    "#name and job title\n",
    "name_list = []\n",
    "jobt_list = []\n",
    "for url in ul_LSE_staff : \n",
    "    res = requests.get(url)\n",
    "    soup = BeautifulSoup(res.content,'lxml')\n",
    "    people_headers = soup.find_all(\"header\", {\"class\": \"people__header\"})\n",
    "    name =(people_headers[0].h1.text).strip() # get the name from people_header\n",
    "    jobt =(people_headers[0].h2.text).strip() # get the job_title from people_header\n",
    "    name_list.append(name) \n",
    "    jobt_list.append(jobt) "
   ]
  },
  {
   "cell_type": "code",
   "execution_count": 23,
   "id": "25f3a243",
   "metadata": {},
   "outputs": [],
   "source": [
    "#check\n",
    "#name_list"
   ]
  },
  {
   "cell_type": "code",
   "execution_count": 24,
   "id": "8de96652",
   "metadata": {},
   "outputs": [],
   "source": [
    "#check\n",
    "#jobt_list"
   ]
  },
  {
   "cell_type": "code",
   "execution_count": 25,
   "id": "1058f87c",
   "metadata": {},
   "outputs": [],
   "source": [
    "#Gender\n",
    "male_pronouns = [\"he\", \"him\", \"his\", \"himself\"]\n",
    "female_pronouns = [\"she\", \"her\", \"hers\", \"herself\"]\n",
    "male_count = 0\n",
    "female_count = 0"
   ]
  },
  {
   "cell_type": "code",
   "execution_count": 33,
   "id": "6c735202",
   "metadata": {},
   "outputs": [],
   "source": [
    "gender_list = []\n",
    "for url in ul_LSE_staff : \n",
    "    res = requests.get(url)\n",
    "    soup = BeautifulSoup(res.content,'lxml')\n",
    "    about_me = soup.find_all(\"div\", {\"class\": \"people__bio\"})\n",
    "    #get the text from about_me above \n",
    "    t = about_me[0].text\n",
    "    #remove the \"\\n\", \"\\r\" ,\"\\xa0\" \"\\'s\" \",\" , \".\" from t above \n",
    "    #to get the clean text \n",
    "    text = t.replace(\"\\n\", \"\").replace(\"\\r\", \"\").replace(\"\\xa0\", \"\").replace(\"\\'s\", \"\").replace(\",\", \"\").replace(\".\", \"\")\n",
    "    for word in text.split(' '):\n",
    "        if word.lower() in male_pronouns:\n",
    "            male_count += 1\n",
    "        if word.lower() in female_pronouns:\n",
    "            female_count += 1\n",
    "    \n",
    "    if male_count >female_count :\n",
    "        gender_list.append('M')\n",
    "    elif female_count > male_count :\n",
    "        gender_list.append('F')\n",
    "    else:\n",
    "        gender_list.append( np.nan )\n",
    "   \n",
    "    male_count = 0\n",
    "    female_count= 0\n",
    "        "
   ]
  },
  {
   "cell_type": "code",
   "execution_count": 34,
   "id": "989823bb",
   "metadata": {},
   "outputs": [
    {
     "name": "stdout",
     "output_type": "stream",
     "text": [
      "['M', 'F', 'M', 'F', 'M', 'M', 'M', 'M', 'M', 'M', 'F', 'M', 'F', 'M', 'M', 'M', nan, 'M', 'F', 'F', 'F', 'M', 'M', 'M', 'F', 'M', 'M', 'M', nan, 'F', 'M', nan, 'F', 'F', 'M', 'M', 'F', 'M']\n"
     ]
    },
    {
     "data": {
      "text/plain": [
       "38"
      ]
     },
     "execution_count": 34,
     "metadata": {},
     "output_type": "execute_result"
    }
   ],
   "source": [
    "#check\n",
    "print(gender_list)\n",
    "len(gender_list)"
   ]
  },
  {
   "cell_type": "code",
   "execution_count": 155,
   "id": "f08f6041",
   "metadata": {},
   "outputs": [],
   "source": [
    "# store the results in a pd.DataFrame df\n",
    "zipped = zip(name_list,jobt_list,gender_list)\n",
    "df_staff = pd.DataFrame(zipped, columns=['Name of the staff', 'Job title', 'Gender'])\n",
    "# df_staff"
   ]
  },
  {
   "cell_type": "markdown",
   "id": "c38f2a23",
   "metadata": {},
   "source": [
    "# Q3.2"
   ]
  },
  {
   "cell_type": "code",
   "execution_count": 156,
   "id": "e6472700",
   "metadata": {},
   "outputs": [
    {
     "name": "stdout",
     "output_type": "stream",
     "text": [
      "Gender\n",
      "M         0.676471\n",
      "F         0.323529\n",
      "dtype: float64\n",
      "Gender\n",
      "M         23\n",
      "F         11\n",
      "dtype: int64\n"
     ]
    }
   ],
   "source": [
    "print(df_staff[[\"Gender\"]].value_counts(normalize=True))\n",
    "print(df_staff[[\"Gender\"]].value_counts())"
   ]
  },
  {
   "cell_type": "markdown",
   "id": "eb8e4e4e",
   "metadata": {},
   "source": [
    "NO, gender ratio of academic staff is not close to 50:50.\n",
    "\n",
    "Accodering to the result we got above, even there are three staffs with uncertian gender, the proportion of male is much higher than female,hence the gender ratio of academic staff is not close to 50:50."
   ]
  },
  {
   "cell_type": "markdown",
   "id": "14935d23",
   "metadata": {},
   "source": [
    "# Q3.3"
   ]
  },
  {
   "cell_type": "code",
   "execution_count": 157,
   "id": "e94e7954",
   "metadata": {},
   "outputs": [],
   "source": [
    "#(a)"
   ]
  },
  {
   "cell_type": "code",
   "execution_count": 158,
   "id": "7757ae84",
   "metadata": {},
   "outputs": [],
   "source": [
    "# fix the data\n",
    "df_staff.loc[15 ,'Gender'] = 'M'\n",
    "df_staff.loc[27 ,'Gender'] = 'M'\n",
    "df_staff.loc[30 ,'Gender'] = 'M'"
   ]
  },
  {
   "cell_type": "code",
   "execution_count": 159,
   "id": "058fb435",
   "metadata": {},
   "outputs": [
    {
     "data": {
      "text/html": [
       "<div>\n",
       "<style scoped>\n",
       "    .dataframe tbody tr th:only-of-type {\n",
       "        vertical-align: middle;\n",
       "    }\n",
       "\n",
       "    .dataframe tbody tr th {\n",
       "        vertical-align: top;\n",
       "    }\n",
       "\n",
       "    .dataframe thead th {\n",
       "        text-align: right;\n",
       "    }\n",
       "</style>\n",
       "<table border=\"1\" class=\"dataframe\">\n",
       "  <thead>\n",
       "    <tr style=\"text-align: right;\">\n",
       "      <th></th>\n",
       "      <th>Name of the staff</th>\n",
       "      <th>Job title</th>\n",
       "      <th>Gender</th>\n",
       "    </tr>\n",
       "  </thead>\n",
       "  <tbody>\n",
       "    <tr>\n",
       "      <th>0</th>\n",
       "      <td>Dr James  Abdey</td>\n",
       "      <td>Associate Professorial Lecturer</td>\n",
       "      <td>M</td>\n",
       "    </tr>\n",
       "    <tr>\n",
       "      <th>1</th>\n",
       "      <td>Dr Marcos Barreto</td>\n",
       "      <td>Assistant Professorial Lecturer</td>\n",
       "      <td>M</td>\n",
       "    </tr>\n",
       "    <tr>\n",
       "      <th>2</th>\n",
       "      <td>Professor Pauline  Barrieu</td>\n",
       "      <td>Professor and Head of Department</td>\n",
       "      <td>F</td>\n",
       "    </tr>\n",
       "    <tr>\n",
       "      <th>3</th>\n",
       "      <td>Dr Erik  Baurdoux</td>\n",
       "      <td>Associate Professor</td>\n",
       "      <td>M</td>\n",
       "    </tr>\n",
       "    <tr>\n",
       "      <th>4</th>\n",
       "      <td>Professor Wicher  Bergsma</td>\n",
       "      <td>Professor and Deputy Head of Department (Teach...</td>\n",
       "      <td>M</td>\n",
       "    </tr>\n",
       "  </tbody>\n",
       "</table>\n",
       "</div>"
      ],
      "text/plain": [
       "            Name of the staff  \\\n",
       "0             Dr James  Abdey   \n",
       "1           Dr Marcos Barreto   \n",
       "2  Professor Pauline  Barrieu   \n",
       "3           Dr Erik  Baurdoux   \n",
       "4   Professor Wicher  Bergsma   \n",
       "\n",
       "                                           Job title Gender  \n",
       "0                    Associate Professorial Lecturer      M  \n",
       "1                    Assistant Professorial Lecturer      M  \n",
       "2                   Professor and Head of Department      F  \n",
       "3                                Associate Professor      M  \n",
       "4  Professor and Deputy Head of Department (Teach...      M  "
      ]
     },
     "execution_count": 159,
     "metadata": {},
     "output_type": "execute_result"
    }
   ],
   "source": [
    "# check \n",
    "df_staff.head()"
   ]
  },
  {
   "cell_type": "code",
   "execution_count": 160,
   "id": "3d849df0",
   "metadata": {},
   "outputs": [],
   "source": [
    "#(b) "
   ]
  },
  {
   "cell_type": "code",
   "execution_count": 161,
   "id": "deb6146b",
   "metadata": {},
   "outputs": [],
   "source": [
    "teaching_word = [\"Lecturer\", \"Teacher\" , \"Teaching Fellow\" , \"LSE Fellow\" ]"
   ]
  },
  {
   "cell_type": "code",
   "execution_count": 162,
   "id": "06c9f654",
   "metadata": {},
   "outputs": [],
   "source": [
    "Role_list =[]\n",
    "Rank_list= []\n",
    "\n",
    "\n",
    "\n",
    "for i in range(len(df_staff)):\n",
    "    #Extract role\n",
    "    for tw in teaching_word : \n",
    "        if tw in df_staff.loc[i][\"Job title\"]:\n",
    "            Role_list.append(\"teaching\")\n",
    "\n",
    "    if \"Professor\" in df_staff.loc[i][\"Job title\"] and \"Professorial\" not in df_staff.loc[i][\"Job title\"]:\n",
    "        Role_list.append(\"faculty\")\n",
    "        \n",
    "    #Extract rank\n",
    "    if \"Guest\" in df_staff.loc[i][\"Job title\"] or \"Fellow\" in df_staff.loc[i][\"Job title\"] :\n",
    "        Rank_list.append(\"non-tenure\") \n",
    "    \n",
    "    if \"Assistant\" in df_staff.loc[i][\"Job title\"]:\n",
    "        Rank_list.append(\"assistant\")\n",
    "    \n",
    "    if \"Associate\" in df_staff.loc[i][\"Job title\"]:\n",
    "        Rank_list.append(\"associate\") \n",
    "        \n",
    "    if (\"Professor\" in df_staff.loc[i][\"Job title\"] \n",
    "        and \"Assistant\" not in df_staff.loc[i][\"Job title\"]\n",
    "        and \"Associate\" not in df_staff.loc[i][\"Job title\"] ):\n",
    "        \n",
    "        Rank_list.append(\"full\")\n",
    " \n"
   ]
  },
  {
   "cell_type": "code",
   "execution_count": 163,
   "id": "221269c1",
   "metadata": {},
   "outputs": [],
   "source": [
    "df_staff[\"Role\"] =Role_list\n",
    "df_staff[\"Rank\"] =Rank_list\n"
   ]
  },
  {
   "cell_type": "code",
   "execution_count": 164,
   "id": "ea2dc134",
   "metadata": {},
   "outputs": [
    {
     "data": {
      "text/html": [
       "<div>\n",
       "<style scoped>\n",
       "    .dataframe tbody tr th:only-of-type {\n",
       "        vertical-align: middle;\n",
       "    }\n",
       "\n",
       "    .dataframe tbody tr th {\n",
       "        vertical-align: top;\n",
       "    }\n",
       "\n",
       "    .dataframe thead th {\n",
       "        text-align: right;\n",
       "    }\n",
       "</style>\n",
       "<table border=\"1\" class=\"dataframe\">\n",
       "  <thead>\n",
       "    <tr style=\"text-align: right;\">\n",
       "      <th></th>\n",
       "      <th>Name of the staff</th>\n",
       "      <th>Job title</th>\n",
       "      <th>Gender</th>\n",
       "      <th>Role</th>\n",
       "      <th>Rank</th>\n",
       "    </tr>\n",
       "  </thead>\n",
       "  <tbody>\n",
       "    <tr>\n",
       "      <th>0</th>\n",
       "      <td>Dr James  Abdey</td>\n",
       "      <td>Associate Professorial Lecturer</td>\n",
       "      <td>M</td>\n",
       "      <td>teaching</td>\n",
       "      <td>associate</td>\n",
       "    </tr>\n",
       "    <tr>\n",
       "      <th>1</th>\n",
       "      <td>Dr Marcos Barreto</td>\n",
       "      <td>Assistant Professorial Lecturer</td>\n",
       "      <td>M</td>\n",
       "      <td>teaching</td>\n",
       "      <td>assistant</td>\n",
       "    </tr>\n",
       "    <tr>\n",
       "      <th>2</th>\n",
       "      <td>Professor Pauline  Barrieu</td>\n",
       "      <td>Professor and Head of Department</td>\n",
       "      <td>F</td>\n",
       "      <td>faculty</td>\n",
       "      <td>full</td>\n",
       "    </tr>\n",
       "    <tr>\n",
       "      <th>3</th>\n",
       "      <td>Dr Erik  Baurdoux</td>\n",
       "      <td>Associate Professor</td>\n",
       "      <td>M</td>\n",
       "      <td>faculty</td>\n",
       "      <td>associate</td>\n",
       "    </tr>\n",
       "    <tr>\n",
       "      <th>4</th>\n",
       "      <td>Professor Wicher  Bergsma</td>\n",
       "      <td>Professor and Deputy Head of Department (Teach...</td>\n",
       "      <td>M</td>\n",
       "      <td>faculty</td>\n",
       "      <td>full</td>\n",
       "    </tr>\n",
       "  </tbody>\n",
       "</table>\n",
       "</div>"
      ],
      "text/plain": [
       "            Name of the staff  \\\n",
       "0             Dr James  Abdey   \n",
       "1           Dr Marcos Barreto   \n",
       "2  Professor Pauline  Barrieu   \n",
       "3           Dr Erik  Baurdoux   \n",
       "4   Professor Wicher  Bergsma   \n",
       "\n",
       "                                           Job title Gender      Role  \\\n",
       "0                    Associate Professorial Lecturer      M  teaching   \n",
       "1                    Assistant Professorial Lecturer      M  teaching   \n",
       "2                   Professor and Head of Department      F   faculty   \n",
       "3                                Associate Professor      M   faculty   \n",
       "4  Professor and Deputy Head of Department (Teach...      M   faculty   \n",
       "\n",
       "        Rank  \n",
       "0  associate  \n",
       "1  assistant  \n",
       "2       full  \n",
       "3  associate  \n",
       "4       full  "
      ]
     },
     "execution_count": 164,
     "metadata": {},
     "output_type": "execute_result"
    }
   ],
   "source": [
    "#check \n",
    "df_staff.head()"
   ]
  },
  {
   "cell_type": "code",
   "execution_count": 165,
   "id": "92faff11",
   "metadata": {},
   "outputs": [],
   "source": [
    "#(c)"
   ]
  },
  {
   "cell_type": "code",
   "execution_count": 166,
   "id": "2895502b",
   "metadata": {},
   "outputs": [
    {
     "data": {
      "text/plain": [
       "'C:\\\\Users\\\\27615\\\\OneDrive\\\\桌面\\\\ST445_C\\\\ST445_PS5\\\\2022-ps-5-RUIYINGJIANG'"
      ]
     },
     "execution_count": 166,
     "metadata": {},
     "output_type": "execute_result"
    }
   ],
   "source": [
    "import os\n",
    "\n",
    "os.getcwd()"
   ]
  },
  {
   "cell_type": "code",
   "execution_count": 167,
   "id": "c94f6632",
   "metadata": {},
   "outputs": [],
   "source": [
    "df_staff.to_csv('data/lse_statistics_2022_11_2.csv')"
   ]
  },
  {
   "cell_type": "markdown",
   "id": "9179513c",
   "metadata": {},
   "source": [
    "# Q4[Simple analysis]"
   ]
  },
  {
   "cell_type": "code",
   "execution_count": 168,
   "id": "16895ec8",
   "metadata": {},
   "outputs": [
    {
     "data": {
      "text/html": [
       "<div>\n",
       "<style scoped>\n",
       "    .dataframe tbody tr th:only-of-type {\n",
       "        vertical-align: middle;\n",
       "    }\n",
       "\n",
       "    .dataframe tbody tr th {\n",
       "        vertical-align: top;\n",
       "    }\n",
       "\n",
       "    .dataframe thead th {\n",
       "        text-align: right;\n",
       "    }\n",
       "</style>\n",
       "<table border=\"1\" class=\"dataframe\">\n",
       "  <thead>\n",
       "    <tr style=\"text-align: right;\">\n",
       "      <th></th>\n",
       "      <th>Rank</th>\n",
       "      <th>Gender</th>\n",
       "    </tr>\n",
       "  </thead>\n",
       "  <tbody>\n",
       "    <tr>\n",
       "      <th>0</th>\n",
       "      <td>associate</td>\n",
       "      <td>M</td>\n",
       "    </tr>\n",
       "    <tr>\n",
       "      <th>1</th>\n",
       "      <td>assistant</td>\n",
       "      <td>M</td>\n",
       "    </tr>\n",
       "    <tr>\n",
       "      <th>2</th>\n",
       "      <td>full</td>\n",
       "      <td>F</td>\n",
       "    </tr>\n",
       "    <tr>\n",
       "      <th>3</th>\n",
       "      <td>associate</td>\n",
       "      <td>M</td>\n",
       "    </tr>\n",
       "    <tr>\n",
       "      <th>4</th>\n",
       "      <td>full</td>\n",
       "      <td>M</td>\n",
       "    </tr>\n",
       "  </tbody>\n",
       "</table>\n",
       "</div>"
      ],
      "text/plain": [
       "        Rank Gender\n",
       "0  associate      M\n",
       "1  assistant      M\n",
       "2       full      F\n",
       "3  associate      M\n",
       "4       full      M"
      ]
     },
     "execution_count": 168,
     "metadata": {},
     "output_type": "execute_result"
    }
   ],
   "source": [
    "df_staff_rankg = df_staff.loc[ :,[\"Rank\",\"Gender\"]]\n",
    "df_staff_roleg = df_staff.loc[ :,[\"Role\",\"Gender\"]]\n",
    "df_staff_rankg.head()  # data frame that only contains columns 'rank' and 'gender' "
   ]
  },
  {
   "cell_type": "code",
   "execution_count": 169,
   "id": "d97fe5b4",
   "metadata": {},
   "outputs": [
    {
     "name": "stdout",
     "output_type": "stream",
     "text": [
      "Rank        Gender\n",
      "assistant   M         0.600000\n",
      "            F         0.400000\n",
      "associate   M         0.857143\n",
      "            F         0.142857\n",
      "full        M         0.769231\n",
      "            F         0.230769\n",
      "non-tenure  M         0.571429\n",
      "            F         0.428571\n",
      "dtype: float64\n"
     ]
    }
   ],
   "source": [
    "# gender ratio depends on the roles and/or the rank\n",
    "by_rank_gender = df_staff_rankg.groupby(['Rank']).value_counts(normalize=True)\n",
    "print(by_rank_gender)"
   ]
  },
  {
   "cell_type": "code",
   "execution_count": 170,
   "id": "3721b304",
   "metadata": {},
   "outputs": [
    {
     "data": {
      "text/plain": [
       "Role      Gender\n",
       "faculty   M         0.8\n",
       "          F         0.2\n",
       "teaching  F         0.5\n",
       "          M         0.5\n",
       "dtype: float64"
      ]
     },
     "execution_count": 170,
     "metadata": {},
     "output_type": "execute_result"
    }
   ],
   "source": [
    "by_role_gender = df_staff_roleg.groupby(['Role']).value_counts(normalize=True)\n",
    "by_role_gender"
   ]
  },
  {
   "cell_type": "markdown",
   "id": "14c3722a",
   "metadata": {},
   "source": [
    "According to the results we got above,\n",
    "\n",
    "\n",
    "For Rank ;\n",
    "\n",
    "the gender ratio is relative balance in assistant and non-tenure\n",
    "but gender ratios in the rank of 'associate' and 'full' are unbalanced, the proportion of male is signifivant higer than that for female\n",
    "\n",
    "\n",
    "For Role ;\n",
    "\n",
    "the gender ratio is balance in faculty\n",
    "but gender ratio in teaching is unbalanced, the proportion of male is four times as much as that for female\n",
    "\n",
    "\n",
    "In conclution, considering the gender ratio academic staff in the department, gender ratio depends on rank and role, department of Statistics doesn't have a good gender balance. \n",
    "The majority of academic staffs are male, and males are more likely in faculty and get higher rank than female. "
   ]
  },
  {
   "cell_type": "markdown",
   "id": "e9485558",
   "metadata": {},
   "source": [
    "# limitations of answers\n",
    "\n",
    "In Data collection via web scraping<br>  \n",
    "when we collecting the gender of staffs from the 'About me',three of staffs have no gender pronoun \n",
    "in the sentence under 'About me', so we can not find the gender of those three staffs automatically.\n",
    "\n",
    "when we excluding any of the emeritus or visiting staff, there is a typo on the webpage，which misspelled 'Visiting' into 'Visting', so we add anther if statement."
   ]
  },
  {
   "cell_type": "code",
   "execution_count": null,
   "id": "7cf8761a",
   "metadata": {},
   "outputs": [],
   "source": []
  }
 ],
 "metadata": {
  "kernelspec": {
   "display_name": "Python 3 (ipykernel)",
   "language": "python",
   "name": "python3"
  },
  "language_info": {
   "codemirror_mode": {
    "name": "ipython",
    "version": 3
   },
   "file_extension": ".py",
   "mimetype": "text/x-python",
   "name": "python",
   "nbconvert_exporter": "python",
   "pygments_lexer": "ipython3",
   "version": "3.9.13"
  }
 },
 "nbformat": 4,
 "nbformat_minor": 5
}
